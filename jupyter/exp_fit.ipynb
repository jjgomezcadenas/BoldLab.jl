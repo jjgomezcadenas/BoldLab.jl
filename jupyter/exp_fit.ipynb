{
 "cells": [
  {
   "cell_type": "code",
   "execution_count": 2,
   "id": "fbdb1305-f99b-41a0-bf6d-0f2a53ea2109",
   "metadata": {},
   "outputs": [],
   "source": [
    "import torch\n",
    "import numpy as np\n",
    "import math\n",
    "import matplotlib.pyplot as plt\n",
    "import torch.nn as nn"
   ]
  },
  {
   "cell_type": "code",
   "execution_count": 80,
   "id": "5bf9c6c7-1e27-48b2-a0f8-369da2437365",
   "metadata": {},
   "outputs": [],
   "source": [
    "from scipy.optimize import curve_fit"
   ]
  },
  {
   "cell_type": "code",
   "execution_count": 87,
   "id": "289339e1-8717-4b66-b5e3-ff7db709408b",
   "metadata": {},
   "outputs": [],
   "source": [
    "import pandas as pd"
   ]
  },
  {
   "cell_type": "markdown",
   "id": "fcbc5053-eb20-4680-9c3c-735aeea413f4",
   "metadata": {},
   "source": [
    "## Fitting an exponential \n",
    "\n",
    "It turns out that Neural Networks with at least one hidden layer are universal approximators. That is, it can be shown that given any continuous function f(x)\n",
    "and some ϵ>0, there exists a Neural Network g(x)\n",
    "with one hidden layer (with a reasonable choice of non-linearity, e.g. sigmoid) such that ∀x,∣f(x)−g(x)∣<ϵ\n",
    "In other words, the neural network can approximate any continuous function.\n",
    "\n"
   ]
  },
  {
   "cell_type": "markdown",
   "id": "b7456995-f084-4fe3-b418-dc3cf9039f7d",
   "metadata": {},
   "source": [
    "### Generate data"
   ]
  },
  {
   "cell_type": "code",
   "execution_count": 4,
   "id": "cbd84d1f-36b8-407d-a80a-88391a6bee9b",
   "metadata": {},
   "outputs": [
    {
     "data": {
      "image/png": "[encoded data removed]",
      "text/plain": [
       "<Figure size 640x480 with 1 Axes>"
      ]
     },
     "metadata": {},
     "output_type": "display_data"
    }
   ],
   "source": [
    "\n",
    "rng = np.random.default_rng(19680801)\n",
    "ll = 1.0\n",
    "scale = 1/ll\n",
    "x = rng.exponential(scale=scale, size=20000)\n",
    "\n",
    "num_bins = 50\n",
    "fig, ax = plt.subplots()\n",
    "\n",
    "# the histogram of the data\n",
    "yb, bins, patches = ax.hist(x, num_bins, (0,5), density=False)\n",
    "\n",
    "# take the x's as bin centers\n",
    "xb = [np.mean([bins[i],bins[i+1]]) for i in range(0, len(bins)-1)]\n",
    "\n",
    "# add a 'best fit' line\n",
    "\n",
    "#ax.plot(xb, xnn, '--')\n",
    "ax.set_xlabel('Value')\n",
    "ax.set_ylabel('Events/bin')\n",
    "ax.set_title('Histogram of exponential sample: '\n",
    "             fr'$\\lambda={ll:.0f}$')\n",
    "\n",
    "# Tweak spacing to prevent clipping of ylabel\n",
    "fig.tight_layout()\n",
    "plt.show()"
   ]
  },
  {
   "cell_type": "code",
   "execution_count": null,
   "id": "bbb1eae8-ecdd-4853-aab7-f0269677cf1e",
   "metadata": {},
   "outputs": [],
   "source": []
  },
  {
   "cell_type": "markdown",
   "id": "6352febb-97c4-4476-b174-c0924d6763e0",
   "metadata": {},
   "source": [
    "### Definition of the NN\n",
    "\n",
    "We use a NN that takes as input the center of the bins (dim 50) and maps it to the output (e.g ypred) through one hidden layer. The loss function is define as the MSE minimazing the Euclidean distance between ypred and the observations yb. "
   ]
  },
  {
   "cell_type": "markdown",
   "id": "16c3bae4-b6e8-48f5-bdd1-0d9d58473c22",
   "metadata": {},
   "source": [
    "### PyTorch allows to use the Mac GPU (mps)"
   ]
  },
  {
   "cell_type": "code",
   "execution_count": 5,
   "id": "d87e3be5-fa50-4b18-b370-3765e0ac9943",
   "metadata": {},
   "outputs": [
    {
     "name": "stdout",
     "output_type": "stream",
     "text": [
      "Using mps device\n"
     ]
    }
   ],
   "source": [
    "device = (\n",
    "    \"cuda\"\n",
    "    if torch.cuda.is_available()\n",
    "    else \"mps\"\n",
    "    if torch.backends.mps.is_available()\n",
    "    else \"cpu\"\n",
    ")\n",
    "print(f\"Using {device} device\")"
   ]
  },
  {
   "cell_type": "code",
   "execution_count": 7,
   "id": "3563176f-4c11-4a69-96f0-609a06fea313",
   "metadata": {},
   "outputs": [],
   "source": [
    "xx = torch.tensor(xb, device=device, dtype=torch.float)\n",
    "yy = torch.tensor(yb, device=device, dtype=torch.float)\n",
    "ypred = torch.zeros(yb.size, device=device, dtype=torch.float)"
   ]
  },
  {
   "cell_type": "markdown",
   "id": "72867908-7daf-4f7d-8aad-83387531e895",
   "metadata": {},
   "source": [
    "#### Define the NN"
   ]
  },
  {
   "cell_type": "code",
   "execution_count": 8,
   "id": "6d1a310b-87b3-44fb-a872-ef78e7e7bbe1",
   "metadata": {},
   "outputs": [],
   "source": [
    "class LNN(nn.Module):\n",
    "    def __init__(self):\n",
    "        super(LNN, self).__init__()\n",
    "    \n",
    "        self.net = torch.nn.Sequential(\n",
    "                                    torch.nn.Linear(50, 50), \n",
    "                                    torch.nn.ReLU(),\n",
    "                                    torch.nn.Linear(50, 50), \n",
    "                                    torch.nn.ReLU(),\n",
    "                                    torch.nn.Linear(50, 50),)\n",
    "    def forward(self, x):\n",
    "        return self.net(x)"
   ]
  },
  {
   "cell_type": "code",
   "execution_count": 9,
   "id": "8ceec273-476a-41ab-a18f-f660b2ee3724",
   "metadata": {},
   "outputs": [
    {
     "name": "stdout",
     "output_type": "stream",
     "text": [
      "LNN(\n",
      "  (net): Sequential(\n",
      "    (0): Linear(in_features=50, out_features=50, bias=True)\n",
      "    (1): ReLU()\n",
      "    (2): Linear(in_features=50, out_features=50, bias=True)\n",
      "    (3): ReLU()\n",
      "    (4): Linear(in_features=50, out_features=50, bias=True)\n",
      "  )\n",
      ")\n"
     ]
    }
   ],
   "source": [
    "# Load the model.\n",
    "model = LNN().to(device)\n",
    "print(model)"
   ]
  },
  {
   "cell_type": "code",
   "execution_count": 10,
   "id": "b987fd47-b326-4fff-972c-8932ceb505cb",
   "metadata": {},
   "outputs": [
    {
     "data": {
      "text/plain": [
       "tensor([-2.0946e-01, -1.2804e-01,  1.5187e-01,  5.0183e-02,  2.6340e-01,\n",
       "        -3.9578e-01, -3.4509e-01, -3.9511e-02,  1.3613e-01, -9.0410e-02,\n",
       "        -3.4375e-01, -7.9360e-02,  9.4698e-03, -1.1785e-01, -3.3456e-01,\n",
       "        -4.6445e-02,  1.9000e-01,  1.5965e-01, -3.1299e-01, -7.1508e-02,\n",
       "         2.5535e-01,  2.5155e-03, -4.4754e-02,  2.3993e-01,  6.5931e-02,\n",
       "        -4.8943e-02,  2.1540e-01,  1.0982e-01,  1.7590e-01, -9.5164e-02,\n",
       "         1.3019e-01, -3.2800e-03, -7.1331e-02,  2.8474e-01, -5.0364e-01,\n",
       "         5.8830e-01, -3.7387e-01,  2.2975e-01,  3.4343e-01, -7.2090e-02,\n",
       "        -5.8175e-02, -7.3639e-02,  3.6226e-01, -2.2133e-04,  4.1202e-01,\n",
       "         2.0072e-01, -3.7173e-02, -2.1721e-01,  2.5500e-01, -2.4218e-02],\n",
       "       device='mps:0', grad_fn=<LinearBackward0>)"
      ]
     },
     "execution_count": 10,
     "metadata": {},
     "output_type": "execute_result"
    }
   ],
   "source": [
    "model(xx)"
   ]
  },
  {
   "cell_type": "code",
   "execution_count": 13,
   "id": "df81b7cb-eea8-4438-aef4-fd27e5b8d974",
   "metadata": {},
   "outputs": [],
   "source": [
    "loss_fn = torch.nn.MSELoss(reduction='sum')\n",
    "optimizer = torch.optim.Adam(model.parameters(), lr=0.001)"
   ]
  },
  {
   "cell_type": "code",
   "execution_count": 14,
   "id": "6ae02a05-eb50-46a8-9dbc-5122fee2e502",
   "metadata": {},
   "outputs": [
    {
     "data": {
      "text/plain": [
       "tensor(19803568., device='mps:0', grad_fn=<MseLossBackward0>)"
      ]
     },
     "execution_count": 14,
     "metadata": {},
     "output_type": "execute_result"
    }
   ],
   "source": [
    "loss_fn(model(xx), yy)"
   ]
  },
  {
   "cell_type": "markdown",
   "id": "de9172d8-f146-4bdd-b82a-b2d8a407c26d",
   "metadata": {},
   "source": [
    "#### Train the network"
   ]
  },
  {
   "cell_type": "code",
   "execution_count": 15,
   "id": "1aa1c4ae-217f-4e5c-a254-517909471613",
   "metadata": {},
   "outputs": [
    {
     "name": "stdout",
     "output_type": "stream",
     "text": [
      "epoch   ->0\n",
      "Loss    ->19803568.0\n",
      "epoch   ->100\n",
      "Loss    ->15908752.0\n",
      "epoch   ->200\n",
      "Loss    ->2292878.0\n",
      "epoch   ->300\n",
      "Loss    ->110195.375\n",
      "epoch   ->400\n",
      "Loss    ->4482.90283203125\n",
      "epoch   ->500\n",
      "Loss    ->100.25257873535156\n",
      "epoch   ->600\n",
      "Loss    ->1.248159408569336\n",
      "epoch   ->700\n",
      "Loss    ->0.015074721537530422\n",
      "epoch   ->800\n",
      "Loss    ->0.00011148279008921236\n",
      "epoch   ->900\n",
      "Loss    ->3.8839527405798435e-05\n"
     ]
    }
   ],
   "source": [
    "# Training loop\n",
    "epochs = 1000\n",
    "train_losses = []\n",
    "for epoch in range(epochs):\n",
    "\n",
    "    #print(f\"\\nEPOCH {epoch}\")\n",
    "\n",
    "    model.train()\n",
    "    y_pred = model(xx)\n",
    "    loss = loss_fn(y_pred, yy)\n",
    "   \n",
    "    if epoch % 100 == 0:\n",
    "        print(f\"epoch   ->{epoch}\")\n",
    "        #print(f\"y_pred  ->{y_pred}\")\n",
    "        #print(f\"yy_pred ->{yy}\")\n",
    "        print(f\"Loss    ->{loss.item()}\")\n",
    "    train_losses.append(loss.item())\n",
    "\n",
    "    # Zero the gradients before running the backward pass.\n",
    "    model.zero_grad()\n",
    "\n",
    "    # Backward pass: compute gradient of the loss with respect to all the learnable\n",
    "    # parameters of the model. \n",
    "    loss.backward()\n",
    "\n",
    "    # Update the weights using gradient descent.\n",
    "    optimizer.step()\n"
   ]
  },
  {
   "cell_type": "code",
   "execution_count": 16,
   "id": "b648443c-3fa3-40dd-b373-fd1cfb1347b1",
   "metadata": {},
   "outputs": [
    {
     "data": {
      "text/plain": [
       "[<matplotlib.lines.Line2D at 0x1691c5c10>]"
      ]
     },
     "execution_count": 16,
     "metadata": {},
     "output_type": "execute_result"
    },
    {
     "data": {
      "image/png": "[encoded data removed]",
      "text/plain": [
       "<Figure size 640x480 with 1 Axes>"
      ]
     },
     "metadata": {},
     "output_type": "display_data"
    }
   ],
   "source": [
    "plt.plot(train_losses)"
   ]
  },
  {
   "cell_type": "code",
   "execution_count": 17,
   "id": "63428e9e-99ba-4377-9a30-05297ec8a16c",
   "metadata": {},
   "outputs": [],
   "source": [
    "xnn = model(xx).cpu().detach().numpy()"
   ]
  },
  {
   "cell_type": "code",
   "execution_count": 19,
   "id": "ce7cad8d-36e2-4e42-9c27-479c5731c6c9",
   "metadata": {},
   "outputs": [
    {
     "data": {
      "text/plain": [
       "array([1858.0017  , 1742.9976  , 1571.0005  , 1403.0004  , 1265.0004  ,\n",
       "       1144.0001  , 1005.0001  ,  937.00006 ,  865.00006 ,  790.      ,\n",
       "        675.00006 ,  635.      ,  568.      ,  507.      ,  479.99997 ,\n",
       "        426.      ,  396.      ,  353.00003 ,  333.      ,  267.      ,\n",
       "        236.00002 ,  252.      ,  234.      ,  201.      ,  181.      ,\n",
       "        167.      ,  141.      ,  145.      ,  119.      ,  109.      ,\n",
       "         99.      ,   88.      ,   76.      ,   57.      ,   71.      ,\n",
       "         55.      ,   39.      ,   46.999996,   47.999996,   39.      ,\n",
       "         33.      ,   31.000004,   46.      ,   31.999996,   16.999998,\n",
       "         24.000002,   19.999998,   19.000044,   17.000008,   15.980928],\n",
       "      dtype=float32)"
      ]
     },
     "execution_count": 19,
     "metadata": {},
     "output_type": "execute_result"
    }
   ],
   "source": [
    "xnn"
   ]
  },
  {
   "cell_type": "code",
   "execution_count": 22,
   "id": "f5956df6-ed96-47a4-9566-567b2579bd42",
   "metadata": {},
   "outputs": [
    {
     "data": {
      "image/png": "[encoded data removed]",
      "text/plain": [
       "<Figure size 640x480 with 1 Axes>"
      ]
     },
     "metadata": {},
     "output_type": "display_data"
    }
   ],
   "source": [
    "fig, ax = plt.subplots()\n",
    "_, _, patches = ax.hist(x, num_bins, (0,5), density=False)\n",
    "\n",
    "ax.plot(xb, xnn, '--')\n",
    "ax.set_xlabel('Value')\n",
    "ax.set_ylabel('Events/bin')\n",
    "ax.set_title('Histogram of exponential sample: '\n",
    "             fr'$\\lambda={ll:.0f}$')\n",
    "\n",
    "# Tweak spacing to prevent clipping of ylabel\n",
    "fig.tight_layout()\n",
    "plt.show()"
   ]
  },
  {
   "cell_type": "markdown",
   "id": "0b213c06-8e5f-4864-8b07-20358104c6ec",
   "metadata": {},
   "source": [
    "## Minimize the parameters of the model "
   ]
  },
  {
   "cell_type": "code",
   "execution_count": 27,
   "id": "f204d042-1b40-47a7-a5fa-b8b1a3ff9caf",
   "metadata": {},
   "outputs": [],
   "source": [
    "def exp_cte(x, a, b, c):\n",
    "    return a + b*np.exp(-c*x)"
   ]
  },
  {
   "cell_type": "code",
   "execution_count": 66,
   "id": "d6de955e-b58c-4736-b5f8-8deba8559683",
   "metadata": {},
   "outputs": [
    {
     "name": "stdout",
     "output_type": "stream",
     "text": [
      "a0 ->0.00 b0 ->1858.00 c0->0.41\n"
     ]
    }
   ],
   "source": [
    "a0 = 0.0\n",
    "b0 = yb[0]\n",
    "c0 = (1/xb[1]) * (1- (yb[1] - a0)/b0)\n",
    "print(f\"a0 ->{a0:.2f} b0 ->{b0:.2f} c0->{c0:.2f}\")"
   ]
  },
  {
   "cell_type": "code",
   "execution_count": 67,
   "id": "ee11abc7-cc03-4f2a-b513-aec804d15d02",
   "metadata": {},
   "outputs": [],
   "source": [
    "a = torch.tensor(a0, device=device, dtype=torch.float, requires_grad=True)\n",
    "b = torch.tensor(b0, device=device, dtype=torch.float, requires_grad=True)\n",
    "c = torch.tensor(c0, device=device, dtype=torch.float, requires_grad=True)"
   ]
  },
  {
   "cell_type": "code",
   "execution_count": 68,
   "id": "f061bf37-be83-456a-b74d-088062efe212",
   "metadata": {},
   "outputs": [],
   "source": [
    "y_pred = a + b * torch.exp(-c*xx)"
   ]
  },
  {
   "cell_type": "code",
   "execution_count": 69,
   "id": "7acc284d-6b73-487b-8513-a42a343d5453",
   "metadata": {},
   "outputs": [
    {
     "name": "stdout",
     "output_type": "stream",
     "text": [
      "epoch   ->0\n",
      "a  ->0.00 b ->1858.00 c->0.41\n",
      "Loss    ->8538550.0\n",
      "a.grad  ->38848.9180 b.grad ->16082.5488 c.grad->-55783432.0000\n",
      "epoch   ->100\n",
      "a  ->19.02 b ->1857.92 c->279.33\n",
      "Loss    ->19063228.0\n",
      "a.grad  ->-37857.8125 b.grad ->-0.0032 c.grad->0.2938\n",
      "epoch   ->200\n",
      "a  ->37.49 b ->1857.92 c->279.33\n",
      "Loss    ->18381124.0\n",
      "a.grad  ->-36011.0117 b.grad ->-0.0031 c.grad->0.2908\n",
      "epoch   ->300\n",
      "a  ->55.06 b ->1857.92 c->279.33\n",
      "Loss    ->17763948.0\n",
      "a.grad  ->-34254.3086 b.grad ->-0.0031 c.grad->0.2880\n",
      "epoch   ->400\n",
      "a  ->71.77 b ->1857.92 c->279.33\n",
      "Loss    ->17205516.0\n",
      "a.grad  ->-32583.2969 b.grad ->-0.0031 c.grad->0.2854\n",
      "epoch   ->500\n",
      "a  ->87.66 b ->1857.92 c->279.33\n",
      "Loss    ->16700238.0\n",
      "a.grad  ->-30993.8008 b.grad ->-0.0030 c.grad->0.2828\n",
      "epoch   ->600\n",
      "a  ->102.78 b ->1857.92 c->279.33\n",
      "Loss    ->16243056.0\n",
      "a.grad  ->-29481.8477 b.grad ->-0.0030 c.grad->0.2804\n",
      "epoch   ->700\n",
      "a  ->117.16 b ->1857.92 c->279.33\n",
      "Loss    ->15829392.0\n",
      "a.grad  ->-28043.6504 b.grad ->-0.0030 c.grad->0.2781\n",
      "epoch   ->800\n",
      "a  ->130.84 b ->1857.92 c->279.33\n",
      "Loss    ->15455100.0\n",
      "a.grad  ->-26675.6094 b.grad ->-0.0030 c.grad->0.2759\n",
      "epoch   ->900\n",
      "a  ->143.86 b ->1857.92 c->279.33\n",
      "Loss    ->15116436.0\n",
      "a.grad  ->-25374.3086 b.grad ->-0.0029 c.grad->0.2738\n"
     ]
    }
   ],
   "source": [
    "# y = a + b*exp(c*x)\n",
    "# Setting requires_grad=True indicates that we want to compute gradients with\n",
    "# respect to these Tensors during the backward pass.\n",
    "#a = torch.randn((), device=device, dtype=torch.float, requires_grad=True)\n",
    "#b = torch.randn((), device=device, dtype=torch.float, requires_grad=True)\n",
    "#c = torch.randn((), device=device, dtype=torch.float, requires_grad=True)\n",
    "a = torch.tensor(a0, device=device, dtype=torch.float, requires_grad=True)\n",
    "b = torch.tensor(b0, device=device, dtype=torch.float, requires_grad=True)\n",
    "c = torch.tensor(c0, device=device, dtype=torch.float, requires_grad=True)\n",
    "L = []\n",
    "nepochs = 1000\n",
    "learning_rate = 5e-6\n",
    "for t in range(nepochs):\n",
    "    # Forward pass: compute predicted y\n",
    "    y_pred = a + b * torch.exp(-c*xx)\n",
    "\n",
    "    # Compute and print loss\n",
    "    loss = (y_pred - yy).pow(2).sum() \n",
    "    L.append(loss.item()) \n",
    "\n",
    "    if t % 100 == 0:\n",
    "        print(f\"epoch   ->{t}\")\n",
    "        print(f\"a  ->{a:.2f} b ->{b:.2f} c->{c:.2f}\")\n",
    "        #print(f\"yy_pred ->{yy}\")\n",
    "        print(f\"Loss    ->{loss.item()}\")\n",
    "    L.append(loss.item())\n",
    "\n",
    "    # Use autograd to compute the backward pass. This call will compute the\n",
    "    # gradient of loss with respect to all Tensors with requires_grad=True.\n",
    "    # After this call a.grad, b.grad. c.grad and d.grad will be Tensors holding\n",
    "    # the gradient of the loss with respect to a, b, c, d respectively.\n",
    "    loss.backward()\n",
    "\n",
    "    # Manually update weights using gradient descent. Wrap in torch.no_grad()\n",
    "    # because weights have requires_grad=True, but we don't need to track this\n",
    "    # in autograd.\n",
    "    with torch.no_grad():\n",
    "        if t % 100 == 0:\n",
    "            print(f\"a.grad  ->{a.grad:.4f} b.grad ->{b.grad:.4f} c.grad->{c.grad:.4f}\")\n",
    "        a -= learning_rate * a.grad\n",
    "        b -= learning_rate * b.grad\n",
    "        c -= learning_rate * c.grad\n",
    "\n",
    "        # Manually zero the gradients after updating weights\n",
    "        #a.grad = None\n",
    "        b.grad = None\n",
    "        c.grad = None\n",
    "        #d.grad = None"
   ]
  },
  {
   "cell_type": "code",
   "execution_count": 71,
   "id": "6ae7120f-ac6e-443b-8715-2f38720f642b",
   "metadata": {},
   "outputs": [
    {
     "name": "stdout",
     "output_type": "stream",
     "text": [
      "epoch   ->0\n",
      "a  ->0.00 b ->1858.00 c->0.41\n",
      "Loss    ->8538550.0\n",
      "b.grad ->16082.5488 c.grad->-55783432.0000\n",
      "epoch   ->100\n",
      "a  ->0.00 b ->1858.03 c->23.88\n",
      "Loss    ->17832808.0\n",
      "b.grad ->-887.5295 c.grad->103315.3281\n",
      "epoch   ->200\n",
      "a  ->0.00 b ->1858.08 c->17.37\n",
      "Loss    ->16963176.0\n",
      "b.grad ->-1189.9751 c.grad->174088.0000\n",
      "epoch   ->300\n",
      "a  ->0.00 b ->1849.75 c->66062.42\n",
      "Loss    ->19801452.0\n",
      "b.grad ->0.0000 c.grad->-0.0000\n",
      "epoch   ->400\n",
      "a  ->0.00 b ->1849.75 c->66062.42\n",
      "Loss    ->19801452.0\n",
      "b.grad ->0.0000 c.grad->-0.0000\n",
      "epoch   ->500\n",
      "a  ->0.00 b ->1849.75 c->66062.42\n",
      "Loss    ->19801452.0\n",
      "b.grad ->0.0000 c.grad->-0.0000\n",
      "epoch   ->600\n",
      "a  ->0.00 b ->1849.75 c->66062.42\n",
      "Loss    ->19801452.0\n",
      "b.grad ->0.0000 c.grad->-0.0000\n",
      "epoch   ->700\n",
      "a  ->0.00 b ->1849.75 c->66062.42\n",
      "Loss    ->19801452.0\n",
      "b.grad ->0.0000 c.grad->-0.0000\n",
      "epoch   ->800\n",
      "a  ->0.00 b ->1849.75 c->66062.42\n",
      "Loss    ->19801452.0\n",
      "b.grad ->0.0000 c.grad->-0.0000\n",
      "epoch   ->900\n",
      "a  ->0.00 b ->1849.75 c->66062.42\n",
      "Loss    ->19801452.0\n",
      "b.grad ->0.0000 c.grad->-0.0000\n"
     ]
    }
   ],
   "source": [
    "a0 = 0\n",
    "a = torch.tensor(a0, device=device, dtype=torch.float, requires_grad=True)\n",
    "b = torch.tensor(b0, device=device, dtype=torch.float, requires_grad=True)\n",
    "c = torch.tensor(c0, device=device, dtype=torch.float, requires_grad=True)\n",
    "L = []\n",
    "nepochs = 1000\n",
    "learning_rate = 5e-7\n",
    "for t in range(nepochs):\n",
    "    # Forward pass: compute predicted y\n",
    "    y_pred = a + b * torch.exp(-c*xx)\n",
    "\n",
    "    # Compute and print loss\n",
    "    loss = (y_pred - yy).pow(2).sum() \n",
    "    L.append(loss.item()) \n",
    "\n",
    "    if t % 100 == 0:\n",
    "        print(f\"epoch   ->{t}\")\n",
    "        print(f\"a  ->{a:.2f} b ->{b:.2f} c->{c:.2f}\")\n",
    "        print(f\"Loss    ->{loss.item()}\")\n",
    "    L.append(loss.item())\n",
    "\n",
    "    # Use autograd to compute the backward pass. This call will compute the\n",
    "    # gradient of loss with respect to all Tensors with requires_grad=True.\n",
    "    # After this call a.grad, b.grad. c.grad and d.grad will be Tensors holding\n",
    "    # the gradient of the loss with respect to a, b, c, d respectively.\n",
    "    loss.backward()\n",
    "\n",
    "    # Manually update weights using gradient descent. Wrap in torch.no_grad()\n",
    "    # because weights have requires_grad=True, but we don't need to track this\n",
    "    # in autograd.\n",
    "    with torch.no_grad():\n",
    "        if t % 100 == 0:\n",
    "            print(f\"b.grad ->{b.grad:.4f} c.grad->{c.grad:.4f}\")\n",
    "        #a -= learning_rate * a.grad\n",
    "        b -= learning_rate * b.grad\n",
    "        c -= learning_rate * c.grad\n",
    "\n",
    "        # Manually zero the gradients after updating weights\n",
    "        #a.grad = None\n",
    "        b.grad = None\n",
    "        c.grad = None"
   ]
  },
  {
   "cell_type": "markdown",
   "id": "4fd2a23d-2702-4a74-a404-561acc762ecb",
   "metadata": {},
   "source": [
    "## Fiting a double exponential "
   ]
  },
  {
   "cell_type": "code",
   "execution_count": 76,
   "id": "3ebe4498-e199-40c8-b856-c483e40c519e",
   "metadata": {},
   "outputs": [],
   "source": [
    "def exp2(x, a, b, c, d):\n",
    "    return a * np.exp(-b * x) + c * np.exp(-d * x)\n"
   ]
  },
  {
   "cell_type": "code",
   "execution_count": 77,
   "id": "948f4418-2f57-4581-b721-a855dcef36c0",
   "metadata": {},
   "outputs": [],
   "source": [
    "a = 2.5\n",
    "b = 1.3\n",
    "c = 0.5\n",
    "d = 0.5\n",
    "x = np.linspace(0,4,50) # Example data\n",
    "y = exp2(x, 2.5, 1.3, 0.5, 0.5) # Example exponential data"
   ]
  },
  {
   "cell_type": "code",
   "execution_count": 78,
   "id": "34608bf8-b910-4580-80fb-5c35e79127a2",
   "metadata": {},
   "outputs": [
    {
     "data": {
      "image/png": "[encoded data removed]",
      "text/plain": [
       "<Figure size 640x480 with 1 Axes>"
      ]
     },
     "metadata": {},
     "output_type": "display_data"
    }
   ],
   "source": []
  },
  {
   "cell_type": "code",
   "execution_count": 85,
   "id": "6e0cfac4-8fe2-4302-b4d9-ef2b3cff97ec",
   "metadata": {},
   "outputs": [
    {
     "name": "stdout",
     "output_type": "stream",
     "text": [
      "[0.5 0.5 2.5 1.3]\n",
      "chi2 of fit = 0.00\n"
     ]
    }
   ],
   "source": [
    "# fit\n",
    "popt, pcov = curve_fit(exp2,x,y,p0=(1.0,1.0,1.0,1.0))\n",
    "\n",
    "print(popt) # This contains best fit parameters\n",
    "\n",
    "p1 = popt[0] # This is your a\n",
    "p2 = popt[1] # This is your b\n",
    "p3 = popt[2] # This is your c\n",
    "p4 = popt[3] # This is your d\n",
    "yfit = exp2(x,p1,p2,p3,p4)\n",
    "residuals = y - yfit\n",
    "chi2 = sum( (residuals**2)/yfit ) # The chi-sqaure of your fit\n",
    "\n",
    "print(f\"chi2 of fit = {chi2:.2f}\")"
   ]
  },
  {
   "cell_type": "code",
   "execution_count": 86,
   "id": "c8a32956-2b09-47cd-b987-4ebd94f350b5",
   "metadata": {},
   "outputs": [
    {
     "data": {
      "image/png": "[encoded data removed]",
      "text/plain": [
       "<Figure size 640x480 with 1 Axes>"
      ]
     },
     "metadata": {},
     "output_type": "display_data"
    }
   ],
   "source": [
    "fig, ax = plt.subplots()\n",
    "\n",
    "ax.scatter(x,y, c='b',label='Data')\n",
    "ax.plot(x, yfit, 'red', label='fit')\n",
    "ax.set_xlabel('x')\n",
    "ax.set_ylabel('Events/bin')\n",
    "ax.set_title('Double exponential: '\n",
    "             fr'$\\lambda_b={b:.0f}$')\n",
    "plt.legend(loc='best')\n",
    "fig.tight_layout()\n",
    "plt.show()"
   ]
  },
  {
   "cell_type": "code",
   "execution_count": 105,
   "id": "108c9984-aa9d-40b1-9853-33041b8df6e2",
   "metadata": {},
   "outputs": [],
   "source": [
    "df = pd.read_csv('AAN155_1E-5M.csv', sep=';', header=0,  decimal=',')"
   ]
  },
  {
   "cell_type": "code",
   "execution_count": 106,
   "id": "0b762e51-ae20-4e11-aab8-1d3944e8793b",
   "metadata": {},
   "outputs": [
    {
     "data": {
      "text/html": [
       "<div>\n",
       "<style scoped>\n",
       "    .dataframe tbody tr th:only-of-type {\n",
       "        vertical-align: middle;\n",
       "    }\n",
       "\n",
       "    .dataframe tbody tr th {\n",
       "        vertical-align: top;\n",
       "    }\n",
       "\n",
       "    .dataframe thead th {\n",
       "        text-align: right;\n",
       "    }\n",
       "</style>\n",
       "<table border=\"1\" class=\"dataframe\">\n",
       "  <thead>\n",
       "    <tr style=\"text-align: right;\">\n",
       "      <th></th>\n",
       "      <th>time</th>\n",
       "      <th>AAN155Free</th>\n",
       "      <th>AAN155_Ba</th>\n",
       "      <th>solvent</th>\n",
       "    </tr>\n",
       "  </thead>\n",
       "  <tbody>\n",
       "    <tr>\n",
       "      <th>0</th>\n",
       "      <td>0.000000</td>\n",
       "      <td>0.0</td>\n",
       "      <td>0.0</td>\n",
       "      <td>0.0</td>\n",
       "    </tr>\n",
       "    <tr>\n",
       "      <th>1</th>\n",
       "      <td>2.441406</td>\n",
       "      <td>0.0</td>\n",
       "      <td>0.0</td>\n",
       "      <td>0.0</td>\n",
       "    </tr>\n",
       "    <tr>\n",
       "      <th>2</th>\n",
       "      <td>4.882812</td>\n",
       "      <td>0.0</td>\n",
       "      <td>0.0</td>\n",
       "      <td>0.0</td>\n",
       "    </tr>\n",
       "    <tr>\n",
       "      <th>3</th>\n",
       "      <td>7.324219</td>\n",
       "      <td>0.0</td>\n",
       "      <td>0.0</td>\n",
       "      <td>0.0</td>\n",
       "    </tr>\n",
       "    <tr>\n",
       "      <th>4</th>\n",
       "      <td>9.765625</td>\n",
       "      <td>0.0</td>\n",
       "      <td>0.0</td>\n",
       "      <td>0.0</td>\n",
       "    </tr>\n",
       "    <tr>\n",
       "      <th>...</th>\n",
       "      <td>...</td>\n",
       "      <td>...</td>\n",
       "      <td>...</td>\n",
       "      <td>...</td>\n",
       "    </tr>\n",
       "    <tr>\n",
       "      <th>4091</th>\n",
       "      <td>9987.793000</td>\n",
       "      <td>12.0</td>\n",
       "      <td>22.0</td>\n",
       "      <td>3.0</td>\n",
       "    </tr>\n",
       "    <tr>\n",
       "      <th>4092</th>\n",
       "      <td>9990.234400</td>\n",
       "      <td>7.0</td>\n",
       "      <td>31.0</td>\n",
       "      <td>0.0</td>\n",
       "    </tr>\n",
       "    <tr>\n",
       "      <th>4093</th>\n",
       "      <td>9992.675800</td>\n",
       "      <td>8.0</td>\n",
       "      <td>23.0</td>\n",
       "      <td>4.0</td>\n",
       "    </tr>\n",
       "    <tr>\n",
       "      <th>4094</th>\n",
       "      <td>9995.117200</td>\n",
       "      <td>8.0</td>\n",
       "      <td>25.0</td>\n",
       "      <td>3.0</td>\n",
       "    </tr>\n",
       "    <tr>\n",
       "      <th>4095</th>\n",
       "      <td>9997.558600</td>\n",
       "      <td>6.0</td>\n",
       "      <td>15.0</td>\n",
       "      <td>3.0</td>\n",
       "    </tr>\n",
       "  </tbody>\n",
       "</table>\n",
       "<p>4096 rows × 4 columns</p>\n",
       "</div>"
      ],
      "text/plain": [
       "             time  AAN155Free  AAN155_Ba  solvent\n",
       "0        0.000000         0.0        0.0      0.0\n",
       "1        2.441406         0.0        0.0      0.0\n",
       "2        4.882812         0.0        0.0      0.0\n",
       "3        7.324219         0.0        0.0      0.0\n",
       "4        9.765625         0.0        0.0      0.0\n",
       "...           ...         ...        ...      ...\n",
       "4091  9987.793000        12.0       22.0      3.0\n",
       "4092  9990.234400         7.0       31.0      0.0\n",
       "4093  9992.675800         8.0       23.0      4.0\n",
       "4094  9995.117200         8.0       25.0      3.0\n",
       "4095  9997.558600         6.0       15.0      3.0\n",
       "\n",
       "[4096 rows x 4 columns]"
      ]
     },
     "execution_count": 106,
     "metadata": {},
     "output_type": "execute_result"
    }
   ],
   "source": [
    "df"
   ]
  },
  {
   "cell_type": "code",
   "execution_count": 94,
   "id": "9336294e-35a5-4c0b-83d2-0bf9e16806fe",
   "metadata": {},
   "outputs": [],
   "source": [
    "dfnames = df.columns"
   ]
  },
  {
   "cell_type": "code",
   "execution_count": 109,
   "id": "73f025f0-ede8-46da-b214-20bf6322006c",
   "metadata": {},
   "outputs": [
    {
     "name": "stdout",
     "output_type": "stream",
     "text": [
      "AAN155Free AAN155_Ba\n"
     ]
    }
   ],
   "source": [
    "print(dfnames[1], dfnames[2])"
   ]
  },
  {
   "cell_type": "code",
   "execution_count": 112,
   "id": "083a5347-3463-4081-86bd-df240a1aa69b",
   "metadata": {},
   "outputs": [
    {
     "data": {
      "text/plain": [
       "4096"
      ]
     },
     "execution_count": 112,
     "metadata": {},
     "output_type": "execute_result"
    }
   ],
   "source": [
    "len(df.time.values)"
   ]
  },
  {
   "cell_type": "code",
   "execution_count": 127,
   "id": "20596d80-872c-4ca7-8e00-e6e3640abdc6",
   "metadata": {},
   "outputs": [],
   "source": [
    "def plot_df_data(df):\n",
    "    fig, ax = plt.subplots(1, 2)\n",
    "    ax[0].plot(df.time.values,df.AAN155Free.values, c='b',label=f'{dfnames[1]}')\n",
    "    ax[0].set_xlabel('t')\n",
    "    ax[0].set_ylabel('I (a.u.)')\n",
    "    ax[0].legend(loc='best')\n",
    "    ax[1].plot(df.time.values,df.AAN155_Ba.values, c='r',label=f'{dfnames[2]}')\n",
    "    ax[1].set_xlabel('t')\n",
    "    ax[1].set_ylabel('I (a.u.)')\n",
    "    \n",
    "    ax[1].legend(loc='best')\n",
    "    fig.tight_layout()\n",
    "    plt.show()\n"
   ]
  },
  {
   "cell_type": "code",
   "execution_count": 128,
   "id": "08c4ce99-a1be-40ab-8cc0-aa658bfd0a6c",
   "metadata": {},
   "outputs": [
    {
     "data": {
      "image/png": "[encoded data removed]",
      "text/plain": [
       "<Figure size 640x480 with 2 Axes>"
      ]
     },
     "metadata": {},
     "output_type": "display_data"
    }
   ],
   "source": [
    "plot_df_data(df)"
   ]
  },
  {
   "cell_type": "code",
   "execution_count": 305,
   "id": "92befb78-c85d-42be-b5d0-7bc24fabebaa",
   "metadata": {},
   "outputs": [],
   "source": [
    "df2 = df.iloc[100:-1]"
   ]
  },
  {
   "cell_type": "code",
   "execution_count": 306,
   "id": "27392dde-e543-4bd3-b138-5c402f0ef9c1",
   "metadata": {},
   "outputs": [
    {
     "data": {
      "text/html": [
       "<div>\n",
       "<style scoped>\n",
       "    .dataframe tbody tr th:only-of-type {\n",
       "        vertical-align: middle;\n",
       "    }\n",
       "\n",
       "    .dataframe tbody tr th {\n",
       "        vertical-align: top;\n",
       "    }\n",
       "\n",
       "    .dataframe thead th {\n",
       "        text-align: right;\n",
       "    }\n",
       "</style>\n",
       "<table border=\"1\" class=\"dataframe\">\n",
       "  <thead>\n",
       "    <tr style=\"text-align: right;\">\n",
       "      <th></th>\n",
       "      <th>time</th>\n",
       "      <th>AAN155Free</th>\n",
       "      <th>AAN155_Ba</th>\n",
       "      <th>solvent</th>\n",
       "    </tr>\n",
       "  </thead>\n",
       "  <tbody>\n",
       "    <tr>\n",
       "      <th>100</th>\n",
       "      <td>244.14063</td>\n",
       "      <td>255.0</td>\n",
       "      <td>2850.0</td>\n",
       "      <td>6.0</td>\n",
       "    </tr>\n",
       "    <tr>\n",
       "      <th>101</th>\n",
       "      <td>246.58200</td>\n",
       "      <td>242.0</td>\n",
       "      <td>2930.0</td>\n",
       "      <td>1.0</td>\n",
       "    </tr>\n",
       "    <tr>\n",
       "      <th>102</th>\n",
       "      <td>249.02344</td>\n",
       "      <td>231.0</td>\n",
       "      <td>2860.0</td>\n",
       "      <td>2.0</td>\n",
       "    </tr>\n",
       "    <tr>\n",
       "      <th>103</th>\n",
       "      <td>251.46484</td>\n",
       "      <td>235.0</td>\n",
       "      <td>2820.0</td>\n",
       "      <td>7.0</td>\n",
       "    </tr>\n",
       "    <tr>\n",
       "      <th>104</th>\n",
       "      <td>253.90625</td>\n",
       "      <td>272.0</td>\n",
       "      <td>2800.0</td>\n",
       "      <td>2.0</td>\n",
       "    </tr>\n",
       "    <tr>\n",
       "      <th>...</th>\n",
       "      <td>...</td>\n",
       "      <td>...</td>\n",
       "      <td>...</td>\n",
       "      <td>...</td>\n",
       "    </tr>\n",
       "    <tr>\n",
       "      <th>4090</th>\n",
       "      <td>9985.35160</td>\n",
       "      <td>14.0</td>\n",
       "      <td>25.0</td>\n",
       "      <td>3.0</td>\n",
       "    </tr>\n",
       "    <tr>\n",
       "      <th>4091</th>\n",
       "      <td>9987.79300</td>\n",
       "      <td>12.0</td>\n",
       "      <td>22.0</td>\n",
       "      <td>3.0</td>\n",
       "    </tr>\n",
       "    <tr>\n",
       "      <th>4092</th>\n",
       "      <td>9990.23440</td>\n",
       "      <td>7.0</td>\n",
       "      <td>31.0</td>\n",
       "      <td>0.0</td>\n",
       "    </tr>\n",
       "    <tr>\n",
       "      <th>4093</th>\n",
       "      <td>9992.67580</td>\n",
       "      <td>8.0</td>\n",
       "      <td>23.0</td>\n",
       "      <td>4.0</td>\n",
       "    </tr>\n",
       "    <tr>\n",
       "      <th>4094</th>\n",
       "      <td>9995.11720</td>\n",
       "      <td>8.0</td>\n",
       "      <td>25.0</td>\n",
       "      <td>3.0</td>\n",
       "    </tr>\n",
       "  </tbody>\n",
       "</table>\n",
       "<p>3995 rows × 4 columns</p>\n",
       "</div>"
      ],
      "text/plain": [
       "            time  AAN155Free  AAN155_Ba  solvent\n",
       "100    244.14063       255.0     2850.0      6.0\n",
       "101    246.58200       242.0     2930.0      1.0\n",
       "102    249.02344       231.0     2860.0      2.0\n",
       "103    251.46484       235.0     2820.0      7.0\n",
       "104    253.90625       272.0     2800.0      2.0\n",
       "...          ...         ...        ...      ...\n",
       "4090  9985.35160        14.0       25.0      3.0\n",
       "4091  9987.79300        12.0       22.0      3.0\n",
       "4092  9990.23440         7.0       31.0      0.0\n",
       "4093  9992.67580         8.0       23.0      4.0\n",
       "4094  9995.11720         8.0       25.0      3.0\n",
       "\n",
       "[3995 rows x 4 columns]"
      ]
     },
     "execution_count": 306,
     "metadata": {},
     "output_type": "execute_result"
    }
   ],
   "source": [
    "df2"
   ]
  },
  {
   "cell_type": "code",
   "execution_count": 307,
   "id": "eff4df5a-be9c-4bc9-98c3-35410c44cf51",
   "metadata": {},
   "outputs": [
    {
     "data": {
      "image/png": "[encoded data removed]",
      "text/plain": [
       "<Figure size 640x480 with 2 Axes>"
      ]
     },
     "metadata": {},
     "output_type": "display_data"
    }
   ],
   "source": [
    "plot_df_data(df2)"
   ]
  },
  {
   "cell_type": "code",
   "execution_count": 308,
   "id": "3ff67b3e-b97f-4445-9a22-5a768c916f98",
   "metadata": {},
   "outputs": [],
   "source": [
    "# Define the number of bins\n",
    "\n",
    "def profile(x,y,num_bins = 50): \n",
    "    # Create bins and calculate mean and standard deviation in each bin\n",
    "    bins = np.linspace(x.min(), x.max(), num_bins+1)\n",
    "    indices = np.digitize(x, bins)\n",
    "    bin_means = [y[indices == i].mean() for i in range(1, len(bins))]\n",
    "    bin_stds = [y[indices == i].std() for i in range(1, len(bins))]\n",
    "\n",
    "    # Mid-points of bins for plotting\n",
    "    bin_mids = (bins[:-1] + bins[1:]) / 2\n",
    "    return bin_mids, bin_means, bin_stds\n",
    "\n"
   ]
  },
  {
   "cell_type": "code",
   "execution_count": 309,
   "id": "956902d3-60f1-4dc9-af10-e1f4ae7fe7de",
   "metadata": {},
   "outputs": [
    {
     "data": {
      "image/png": "[encoded data removed]",
      "text/plain": [
       "<Figure size 640x480 with 2 Axes>"
      ]
     },
     "metadata": {},
     "output_type": "display_data"
    }
   ],
   "source": [
    "xp,yp,stds = profile(df2.time.values,df2.AAN155Free.values ,num_bins = 50)\n",
    "xpb,ypb,stdb = profile(df2.time.values,df2.AAN155_Ba.values ,num_bins = 50)\n",
    "    \n",
    "\n",
    "fig, ax = plt.subplots(1,2)\n",
    "ax[0].errorbar(xp, yp, yerr=stds, fmt='o', capsize=5, label=f'{dfnames[1]}')\n",
    "ax[0].set_xlabel('tp')\n",
    "ax[0].set_ylabel('Ip')\n",
    "ax[0].legend(loc='best')\n",
    "\n",
    "ax[1].errorbar(xpb, ypb, yerr=stdb, fmt='o', capsize=5, label=f'{dfnames[2]}')\n",
    "ax[1].set_xlabel('tp')\n",
    "ax[1].set_ylabel('Ip')\n",
    "ax[1].legend(loc='best')\n",
    "fig.tight_layout()\n",
    "plt.show()"
   ]
  },
  {
   "cell_type": "code",
   "execution_count": 310,
   "id": "8e114f47-43d5-40bb-a9fc-531fe6f0dcfe",
   "metadata": {},
   "outputs": [],
   "source": [
    "def double_exponential(x, a, b, c, d, e):\n",
    "    return a * np.exp(-x/b) + c * np.exp(-x/d) + e\n",
    "    "
   ]
  },
  {
   "cell_type": "code",
   "execution_count": 311,
   "id": "9d3f51b3-276c-4e63-adfd-ce4af894352e",
   "metadata": {},
   "outputs": [],
   "source": [
    "def fit_exp2(x, y, p0=(1e+3,1e+3,1e+3,1e+3, 1e+2 )):\n",
    "    \n",
    "    params, params_covariance = curve_fit(double_exponential, x, y, p0=p0)\n",
    "    yfit = double_exponential(x, *params)\n",
    "    residuals = y - yfit\n",
    "    chi2 = sum( (residuals**2)/y ) # The chi-sqaure of your fit\n",
    "    return params, yfit, chi2\n",
    "\n"
   ]
  },
  {
   "cell_type": "code",
   "execution_count": 312,
   "id": "cb9d19a5-bd11-40a1-ba7b-04927766b261",
   "metadata": {},
   "outputs": [
    {
     "name": "stdout",
     "output_type": "stream",
     "text": [
      "fit par: a = 764.21, b = 278.84\n",
      "fit par: c = 2970.69, d = 1427.84, e = 22.47\n",
      "chi2 of fit = 1.71\n"
     ]
    }
   ],
   "source": [
    "parb, yftb, chi2b = fit_exp2(xpb,ypb, p0=(1e+3,1e+3,1e+3,1e+3, 1e+2))\n",
    "print(f\"fit par: a = {parb[0]:.2f}, b = {parb[1]:.2f}\")\n",
    "print(f\"fit par: c = {parb[2]:.2f}, d = {parb[3]:.2f}, e = {parb[4]:.2f}\")\n",
    "print(f\"chi2 of fit = {chi2b:.2f}\")"
   ]
  },
  {
   "cell_type": "code",
   "execution_count": 313,
   "id": "79a5047a-abfa-47af-b986-2f42a580986b",
   "metadata": {},
   "outputs": [
    {
     "name": "stdout",
     "output_type": "stream",
     "text": [
      "fit par: a = 41.07, b = 2961.39\n",
      "fit par: c = 444.44, d = 300.96, e = 7.99\n",
      "chi2 of fit = 0.71\n"
     ]
    }
   ],
   "source": [
    "parf, yftf, chi2f = fit_exp2(xp,yp, p0=(1e+3,1e+3,1e+3,1e+3, 1e+2))\n",
    "print(f\"fit par: a = {parf[0]:.2f}, b = {parf[1]:.2f}\")\n",
    "print(f\"fit par: c = {parf[2]:.2f}, d = {parf[3]:.2f}, e = {parf[4]:.2f}\")\n",
    "print(f\"chi2 of fit = {chi2f:.2f}\")"
   ]
  },
  {
   "cell_type": "code",
   "execution_count": 314,
   "id": "f457e7c4-ad27-45fa-bbe6-55c94deda1dc",
   "metadata": {},
   "outputs": [
    {
     "data": {
      "image/png": "[encoded data removed]",
      "text/plain": [
       "<Figure size 640x480 with 2 Axes>"
      ]
     },
     "metadata": {},
     "output_type": "display_data"
    }
   ],
   "source": [
    "fig, ax = plt.subplots(1,2)\n",
    "ax[0].errorbar(xp, yp, yerr=stds, fmt='o', capsize=3, label=f'{dfnames[1]}')\n",
    "ax[0].plot(xp, yftf, label=\"fit\")\n",
    "ax[0].set_xlabel('tp')\n",
    "ax[0].set_ylabel('Ip')\n",
    "ax[0].legend(loc='best')\n",
    "\n",
    "ax[1].errorbar(xpb, ypb, yerr=stdb, fmt='o', capsize=3, label=f'{dfnames[2]}')\n",
    "ax[1].plot(xpb, yftb, label=\"fit\")\n",
    "ax[1].set_xlabel('tp')\n",
    "ax[1].set_ylabel('Ip')\n",
    "ax[1].legend(loc='best')\n",
    "fig.tight_layout()\n",
    "plt.show()"
   ]
  },
  {
   "cell_type": "code",
   "execution_count": 329,
   "id": "1d6f3d60-7fc1-4b8e-a2d3-80c0330361e8",
   "metadata": {},
   "outputs": [],
   "source": [
    "def norm2exp(pars):\n",
    "    a = pars[0]\n",
    "    b = pars[1]\n",
    "    c = pars[2] \n",
    "    d = pars[3] \n",
    "    e = pars[4]\n",
    "    return a/(a+c+e), b, c/(a+c+e), d, e/(a+c+e)\n",
    "    "
   ]
  },
  {
   "cell_type": "code",
   "execution_count": 331,
   "id": "a590489d-adac-4b8e-adc8-d2e275f68269",
   "metadata": {},
   "outputs": [
    {
     "name": "stdout",
     "output_type": "stream",
     "text": [
      "Ann Free\n",
      "Intensity of exponential 1 = 0.0832, lifetime = 2961.3950 ns\n",
      "Intensity of exponential 2 = 0.9006, lifetime = 300.9648 ns\n",
      "Intensity of constant term = 0.0162\n"
     ]
    }
   ],
   "source": [
    "i1f, l1f, i2f, l2f, ef = norm2exp(parf)\n",
    "print(f'Ann Free')\n",
    "print(f'Intensity of exponential 1 = {i1f:.4f}, lifetime = {l1f:.4f} ns') \n",
    "print(f'Intensity of exponential 2 = {i2f:.4f}, lifetime = {l2f:.4f} ns') \n",
    "print(f'Intensity of constant term = {ef:.4f}') "
   ]
  },
  {
   "cell_type": "code",
   "execution_count": 332,
   "id": "04a64cc9-232b-4508-bea5-647773509c76",
   "metadata": {},
   "outputs": [
    {
     "name": "stdout",
     "output_type": "stream",
     "text": [
      "Ann Ba2+\n",
      "Intensity of exponential 1 = 0.2034, lifetime = 278.8370 ns\n",
      "Intensity of exponential 2 = 0.7906, lifetime = 1427.8420 ns\n",
      "Intensity of constant term = 0.0060\n"
     ]
    }
   ],
   "source": [
    "i1b, l1b, i2b, l2b, eb = norm2exp(parb)\n",
    "print(f'Ann Ba2+')\n",
    "print(f'Intensity of exponential 1 = {i1b:.4f}, lifetime = {l1b:.4f} ns') \n",
    "print(f'Intensity of exponential 2 = {i2b:.4f}, lifetime = {l2b:.4f} ns') \n",
    "print(f'Intensity of constant term = {eb:.4f}') "
   ]
  },
  {
   "cell_type": "code",
   "execution_count": 334,
   "id": "c8aaed12-9bdf-4817-be30-02420b9f2c27",
   "metadata": {},
   "outputs": [
    {
     "data": {
      "text/plain": [
       "9.549296585513721"
      ]
     },
     "execution_count": 334,
     "metadata": {},
     "output_type": "execute_result"
    }
   ],
   "source": [
    "30/np.pi"
   ]
  },
  {
   "cell_type": "code",
   "execution_count": 336,
   "id": "2f30a86d-d052-41b7-b35b-08231388686f",
   "metadata": {},
   "outputs": [
    {
     "data": {
      "text/plain": [
       "10860"
      ]
     },
     "execution_count": 336,
     "metadata": {},
     "output_type": "execute_result"
    }
   ],
   "source": [
    "18 * 530 + 1000 + 320"
   ]
  },
  {
   "cell_type": "code",
   "execution_count": 339,
   "id": "57519bbf-a9dc-4fa6-a4c5-48c56fb71bd8",
   "metadata": {},
   "outputs": [],
   "source": [
    "def nc(dmm, Lmm):\n",
    "    return np.floor(np.pi * dmm/50), np.floor(Lmm/50)  "
   ]
  },
  {
   "cell_type": "code",
   "execution_count": 343,
   "id": "4c4ba45b-1824-4449-b1c8-db0553090282",
   "metadata": {},
   "outputs": [
    {
     "data": {
      "text/plain": [
       "4.3"
      ]
     },
     "execution_count": 343,
     "metadata": {},
     "output_type": "execute_result"
    }
   ],
   "source": [
    "np.prod(nc(700, 1000)) * 500/1e+5"
   ]
  },
  {
   "cell_type": "code",
   "execution_count": 352,
   "id": "485f38ba-02c7-4f30-bcdc-4617983b83a2",
   "metadata": {},
   "outputs": [],
   "source": [
    "clyso = 45 # $/cm3"
   ]
  },
  {
   "cell_type": "code",
   "execution_count": 353,
   "id": "5e092918-c9a1-430f-a0ff-78a79f0f342c",
   "metadata": {},
   "outputs": [],
   "source": [
    "vcm = 5 * 5 * 2.2"
   ]
  },
  {
   "cell_type": "code",
   "execution_count": 354,
   "id": "65eb5a9f-823e-47c0-b483-769425b6ff92",
   "metadata": {},
   "outputs": [],
   "source": [
    "cclyso = clyso * vcm"
   ]
  },
  {
   "cell_type": "code",
   "execution_count": 355,
   "id": "d424930b-b03c-4e27-b4e7-97a1fce6a19b",
   "metadata": {},
   "outputs": [
    {
     "name": "stdout",
     "output_type": "stream",
     "text": [
      "cost lyso crystal 50 x 50 x 2X0 = 2475.00\n"
     ]
    }
   ],
   "source": [
    "print(f\"cost lyso crystal 50 x 50 x 2X0 = {cclyso:.2f}\")"
   ]
  },
  {
   "cell_type": "code",
   "execution_count": 360,
   "id": "04f234bb-48c3-452f-af79-89c0a8d97e62",
   "metadata": {},
   "outputs": [],
   "source": [
    "sipm = 15 #$ --> 3 x 3"
   ]
  },
  {
   "cell_type": "code",
   "execution_count": 361,
   "id": "0f40ac7f-1f44-4611-87cb-3f09af0cc5b3",
   "metadata": {},
   "outputs": [],
   "source": [
    "s3x3c = 16*16 * sipm"
   ]
  },
  {
   "cell_type": "code",
   "execution_count": 362,
   "id": "2a442343-fa30-4224-9020-bfdbf681cdc5",
   "metadata": {},
   "outputs": [
    {
     "data": {
      "text/plain": [
       "3840"
      ]
     },
     "execution_count": 362,
     "metadata": {},
     "output_type": "execute_result"
    }
   ],
   "source": [
    "s3x3c"
   ]
  },
  {
   "cell_type": "code",
   "execution_count": 367,
   "id": "28f1f835-ba84-4b9e-9edf-3c5b7c3506ec",
   "metadata": {},
   "outputs": [],
   "source": [
    "s6x6c = 8*8 * 30"
   ]
  },
  {
   "cell_type": "code",
   "execution_count": 368,
   "id": "d878a44c-7e2b-4c4f-88c1-653671db5557",
   "metadata": {},
   "outputs": [
    {
     "data": {
      "text/plain": [
       "1920"
      ]
     },
     "execution_count": 368,
     "metadata": {},
     "output_type": "execute_result"
    }
   ],
   "source": [
    "s6x6c"
   ]
  },
  {
   "cell_type": "code",
   "execution_count": 369,
   "id": "c26e96a2-d102-4d73-ae02-f13685b1d091",
   "metadata": {},
   "outputs": [],
   "source": [
    "asic = 8*8*10"
   ]
  },
  {
   "cell_type": "code",
   "execution_count": 370,
   "id": "deca28e1-abc8-458d-88f7-b35a85e8bbcf",
   "metadata": {},
   "outputs": [
    {
     "data": {
      "text/plain": [
       "640"
      ]
     },
     "execution_count": 370,
     "metadata": {},
     "output_type": "execute_result"
    }
   ],
   "source": [
    "asic"
   ]
  },
  {
   "cell_type": "code",
   "execution_count": 372,
   "id": "6fe343c5-5f2e-4164-8065-98a12d2782e5",
   "metadata": {},
   "outputs": [
    {
     "data": {
      "text/plain": [
       "0.5504"
      ]
     },
     "execution_count": 372,
     "metadata": {},
     "output_type": "execute_result"
    }
   ],
   "source": [
    "np.prod(nc(700, 1000)) * asic/1e+6"
   ]
  },
  {
   "cell_type": "code",
   "execution_count": 373,
   "id": "79be7d18-fbf0-4a38-83d8-c9d348ea35a6",
   "metadata": {},
   "outputs": [
    {
     "data": {
      "text/plain": [
       "1.6512"
      ]
     },
     "execution_count": 373,
     "metadata": {},
     "output_type": "execute_result"
    }
   ],
   "source": [
    "np.prod(nc(700, 1000)) * s6x6c/1e+6"
   ]
  },
  {
   "cell_type": "code",
   "execution_count": 374,
   "id": "8a170ced-641a-4248-9827-92333ec1e119",
   "metadata": {},
   "outputs": [
    {
     "data": {
      "text/plain": [
       "3.3024"
      ]
     },
     "execution_count": 374,
     "metadata": {},
     "output_type": "execute_result"
    }
   ],
   "source": [
    "np.prod(nc(700, 1000)) * s3x3c/1e+6"
   ]
  },
  {
   "cell_type": "code",
   "execution_count": 375,
   "id": "b864b20d-df0c-40d3-a6e0-ef6e5f8b9554",
   "metadata": {},
   "outputs": [
    {
     "data": {
      "text/plain": [
       "5.9598"
      ]
     },
     "execution_count": 375,
     "metadata": {},
     "output_type": "execute_result"
    }
   ],
   "source": [
    "np.prod(nc(700, 1000)) * s3x3c/1e+6 + np.prod(nc(700, 1000)) * asic/1e+6 + np.prod(nc(700, 1000)) * 2450/1e+6"
   ]
  },
  {
   "cell_type": "code",
   "execution_count": null,
   "id": "5477779b-41b9-48f6-8837-0f23a22196fd",
   "metadata": {},
   "outputs": [],
   "source": []
  }
 ],
 "metadata": {
  "kernelspec": {
   "display_name": "Python 3 (ipykernel)",
   "language": "python",
   "name": "python3"
  },
  "language_info": {
   "codemirror_mode": {
    "name": "ipython",
    "version": 3
   },
   "file_extension": ".py",
   "mimetype": "text/x-python",
   "name": "python",
   "nbconvert_exporter": "python",
   "pygments_lexer": "ipython3",
   "version": "3.11.6"
  }
 },
 "nbformat": 4,
 "nbformat_minor": 5
}
